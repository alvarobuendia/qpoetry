{
 "cells": [
  {
   "cell_type": "code",
   "execution_count": 149,
   "metadata": {},
   "outputs": [
    {
     "name": "stdout",
     "output_type": "stream",
     "text": [
      "          ┌───┐┌─┐         \n",
      "q21_0: |0>┤ H ├┤M├─────────\n",
      "          ├───┤└╥┘┌─┐      \n",
      "q21_1: |0>┤ H ├─╫─┤M├──────\n",
      "          ├───┤ ║ └╥┘┌─┐   \n",
      "q21_2: |0>┤ H ├─╫──╫─┤M├───\n",
      "          ├───┤ ║  ║ └╥┘┌─┐\n",
      "q21_3: |0>┤ H ├─╫──╫──╫─┤M├\n",
      "          └───┘ ║  ║  ║ └╥┘\n",
      " c21_0: 0 ══════╩══╬══╬══╬═\n",
      "                   ║  ║  ║ \n",
      " c21_1: 0 ═════════╩══╬══╬═\n",
      "                      ║  ║ \n",
      " c21_2: 0 ════════════╩══╬═\n",
      "                         ║ \n",
      " c21_3: 0 ═══════════════╩═\n",
      "                           \n"
     ]
    }
   ],
   "source": [
    "import numpy as np\n",
    "from qiskit import QuantumCircuit, ClassicalRegister, QuantumRegister, execute\n",
    "from qiskit.tools.visualization import circuit_drawer\n",
    "from qiskit.quantum_info import state_fidelity\n",
    "from qiskit import BasicAer\n",
    "from qiskit.visualization import plot_histogram\n",
    "from numpy import pi\n",
    "\n",
    "qr = QuantumRegister(4)\n",
    "cr = ClassicalRegister(4)\n",
    "QRPS = QuantumCircuit(qr,cr)\n",
    "QRPS.h(qr)\n",
    "QRPS.measure(qr,cr)\n",
    "print(QRPS)"
   ]
  },
  {
   "cell_type": "code",
   "execution_count": 189,
   "metadata": {},
   "outputs": [
    {
     "name": "stdout",
     "output_type": "stream",
     "text": [
      "\n",
      "\n",
      "las máquinas es Turing \n",
      "Turing hombres máquinas no \n",
      "las decir no con \n",
      "Turing no Turing máquinas \n",
      "\n",
      "las yace piensan Turing \n",
      "cree no hombres es \n",
      "Turing con piensan piensan \n",
      "las las cree las \n",
      "\n",
      "hombres máquinas yace es \n",
      "con Turing las máquinas \n",
      "decir es piensan Turing \n",
      "\n",
      "Turing piensan Turing que \n",
      "Turing las con Turing \n",
      "las Turing Turing hombres "
     ]
    }
   ],
   "source": [
    "for m in range(2):\n",
    " print()\n",
    " for l in range(4):\n",
    "  print()\n",
    "  for x in range(4):\n",
    "     nshots = 1\n",
    "     backend = BasicAer.get_backend('qasm_simulator') # the device to run on\n",
    "     result = execute(QRPS, backend, shots= nshots).result()\n",
    "     counts  = result.get_counts(QRPS)\n",
    "    \n",
    "     A = \"Turing cree que las máquinas piensan Turing yace con hombres es decir las máquinas no piensan\" \n",
    "     B = ['0000','0001','0010','0011','0100','0101','0110','0111','1000','1001','1010','1011','1100','1101','1110','1111']\n",
    "     a = A.split()\n",
    "  \n",
    "     for i in range(16):\n",
    "        if counts.get(B[i],0) == 1:\n",
    "            print(a[i], end = ' ')\n",
    "            \n",
    "for m in range(2):\n",
    " print()\n",
    " for l in range(3):\n",
    "  print()\n",
    "  for x in range(4):\n",
    "     nshots = 1\n",
    "     backend = BasicAer.get_backend('qasm_simulator') # the device to run on\n",
    "     result = execute(QRPS, backend, shots= nshots).result()\n",
    "     counts  = result.get_counts(QRPS)\n",
    "    \n",
    "     A = \"Turing cree que las máquinas piensan Turing yace con hombres es decir las máquinas no piensan\" \n",
    "     B = ['0000','0001','0010','0011','0100','0101','0110','0111','1000','1001','1010','1011','1100','1101','1110','1111']\n",
    "     a = A.split()\n",
    "  \n",
    "     for i in range(16):\n",
    "        if counts.get(B[i],0) == 1:\n",
    "            print(a[i], end = ' ')\n",
    "            \n",
    "          "
   ]
  },
  {
   "cell_type": "code",
   "execution_count": 187,
   "metadata": {},
   "outputs": [
    {
     "name": "stdout",
     "output_type": "stream",
     "text": [
      "\n",
      "\n",
      "be programmed to nobody \n",
      "heterosexual be programmed heterosexual \n",
      "be programmed be her \n",
      "programmed you I be \n",
      "\n",
      "be her programmed heterosexual \n",
      "programmed just heterosexual just \n",
      "programmed to just I \n",
      "programmed her heterosexual I \n",
      "\n",
      "her programmed programmed heterosexual \n",
      "just were programmed her \n",
      "her nobody were were \n",
      "\n",
      "you programmed heterosexual you \n",
      "you to were be \n",
      "programmed her to her "
     ]
    }
   ],
   "source": [
    "for m in range(2):\n",
    " print()\n",
    " for l in range(4):\n",
    "  print()\n",
    "  for x in range(4):\n",
    "     nshots = 1\n",
    "     backend = BasicAer.get_backend('qasm_simulator') # the device to run on\n",
    "     result = execute(QRPS, backend, shots= nshots).result()\n",
    "     counts  = result.get_counts(QRPS)\n",
    "    \n",
    "    \n",
    "     A = \"I programmed her to be heterosexual just like you were programmed to be heterosexual nobody programmed me.\" \n",
    "     B = ['0000','0001','0010','0011','0100','0101','0110','0111','1000','1001','1010','1011','1100','1101','1110','1111']\n",
    "     a = A.split()\n",
    "  \n",
    "     for i in range(16):\n",
    "        if counts.get(B[i],0) == 1:\n",
    "            print(a[i], end = ' ')\n",
    "            \n",
    "for m in range(2):\n",
    " print()\n",
    " for l in range(3):\n",
    "  print()\n",
    "  for x in range(4):\n",
    "     nshots = 1\n",
    "     backend = BasicAer.get_backend('qasm_simulator') # the device to run on\n",
    "     result = execute(QRPS, backend, shots= nshots).result()\n",
    "     counts  = result.get_counts(QRPS)\n",
    "  \n",
    "     for i in range(16):\n",
    "        if counts.get(B[i],0) == 1:\n",
    "            print(a[i], end = ' ')\n",
    "            "
   ]
  },
  {
   "cell_type": "code",
   "execution_count": 718,
   "metadata": {
    "scrolled": true
   },
   "outputs": [
    {
     "name": "stdout",
     "output_type": "stream",
     "text": [
      "\n",
      "\n",
      "labios es hombre no \n",
      "una de el de \n",
      "un no es hombre \n",
      "es el una que \n",
      "\n",
      "hombre una una el \n",
      "labios hombre su de \n",
      "labios el el mientras \n",
      "el hombre que una \n",
      "\n",
      "es de una un \n",
      "una mientras no su \n",
      "mientras hombre el hombre \n",
      "\n",
      "no no que dicen \n",
      "no es oye labios \n",
      "hombre el dicen es "
     ]
    }
   ],
   "source": [
    "for m in range(2):\n",
    " print()\n",
    " for l in range(4):\n",
    "  print()\n",
    "  for x in range(4):\n",
    "     nshots = 1\n",
    "     backend = BasicAer.get_backend('qasm_simulator') # the device to run on\n",
    "     result = execute(QRPS, backend, shots= nshots).result()\n",
    "     counts  = result.get_counts(QRPS)\n",
    "    \n",
    "     A = \"dicen que el hombre no es un hombre mientras oye su nombre de labios de una mujer\" \n",
    "     B = ['0000','0001','0010','0011','0100','0101','0110','0111','1000','1001','1010','1011','1100','1101','1110','1111']\n",
    "     a = A.split()\n",
    "  \n",
    "     for i in range(16):\n",
    "        if counts.get(B[i],0) == 1:\n",
    "            print(a[i], end = ' ')\n",
    "            \n",
    "for m in range(2):\n",
    " print()\n",
    " for l in range(3):\n",
    "  print()\n",
    "  for x in range(4):\n",
    "     nshots = 1\n",
    "     backend = BasicAer.get_backend('qasm_simulator') # the device to run on\n",
    "     result = execute(QRPS, backend, shots= nshots).result()\n",
    "     counts  = result.get_counts(QRPS)\n",
    "  \n",
    "     for i in range(16):\n",
    "        if counts.get(B[i],0) == 1:\n",
    "            print(a[i], end = ' ')"
   ]
  },
  {
   "cell_type": "code",
   "execution_count": 182,
   "metadata": {},
   "outputs": [
    {
     "name": "stdout",
     "output_type": "stream",
     "text": [
      "\n",
      "\n",
      "machine well as cyborg \n",
      "is as reality a \n",
      "a organism cyborg organism \n",
      "as hybrid social fiction \n",
      "\n",
      "organism creature cyborg social \n",
      "a well well fiction \n",
      "social reality a cyborg \n",
      "of and of as \n",
      "\n",
      "fiction hybrid hybrid of \n",
      "well well of as \n",
      "a hybrid cyborg and \n",
      "\n",
      "cyborg hybrid is well \n",
      "a cyborg social of \n",
      "and as machine well "
     ]
    }
   ],
   "source": [
    "for m in range(2):\n",
    " print()\n",
    " for l in range(4):\n",
    "  print()\n",
    "  for x in range(4):\n",
    "     nshots = 1\n",
    "     backend = BasicAer.get_backend('qasm_simulator') # the device to run on\n",
    "     result = execute(QRPS, backend, shots= nshots).result()\n",
    "     counts  = result.get_counts(QRPS)\n",
    "    \n",
    "     A = \"a cyborg is cybernetic organism hybrid of machine and creature social reality as well as fiction\" \n",
    "     B = ['0000','0001','0010','0011','0100','0101','0110','0111','1000','1001','1010','1011','1100','1101','1110','1111']\n",
    "     a = A.split()\n",
    "  \n",
    "     for i in range(16):\n",
    "        if counts.get(B[i],0) == 1:\n",
    "            print(a[i], end = ' ')\n",
    "            \n",
    "for m in range(2):\n",
    " print()\n",
    " for l in range(3):\n",
    "  print()\n",
    "  for x in range(4):\n",
    "     nshots = 1\n",
    "     backend = BasicAer.get_backend('qasm_simulator') # the device to run on\n",
    "     result = execute(QRPS, backend, shots= nshots).result()\n",
    "     counts  = result.get_counts(QRPS)\n",
    "  \n",
    "     for i in range(16):\n",
    "        if counts.get(B[i],0) == 1:\n",
    "            print(a[i], end = ' ')"
   ]
  },
  {
   "cell_type": "code",
   "execution_count": 231,
   "metadata": {},
   "outputs": [
    {
     "name": "stdout",
     "output_type": "stream",
     "text": [
      "['01110111', '01101111', '01110010', '01100100']\n",
      "['01101100', '01101111', '01110010', '01100100']\n"
     ]
    }
   ],
   "source": [
    "W = \"word\"\n",
    "def binconv(string):\n",
    "    bw = []\n",
    "    for character in string:\n",
    "        bw.append(bin(ord(character))[2:].zfill(8))\n",
    "    return(bw)\n",
    "    \n",
    "w = binconv(W)\n",
    "l = binconv(\"lord\")\n",
    "\n",
    "print(w)\n",
    "print(l)"
   ]
  },
  {
   "cell_type": "code",
   "execution_count": 714,
   "metadata": {},
   "outputs": [
    {
     "ename": "SyntaxError",
     "evalue": "invalid syntax (<ipython-input-714-1be19dddc952>, line 18)",
     "output_type": "error",
     "traceback": [
      "\u001b[0;36m  File \u001b[0;32m\"<ipython-input-714-1be19dddc952>\"\u001b[0;36m, line \u001b[0;32m18\u001b[0m\n\u001b[0;31m    if vowcon(string)[len(vowcon(string))-1] == acc[x]\u001b[0m\n\u001b[0m                                                       ^\u001b[0m\n\u001b[0;31mSyntaxError\u001b[0m\u001b[0;31m:\u001b[0m invalid syntax\n"
     ]
    }
   ],
   "source": [
    "vow = ['a','e','i','o','u','á','é','í','ó','ú']\n",
    "def vowcon(string):\n",
    "    s = ''\n",
    "    for x in range(len(string)):\n",
    "        for y in range(10):\n",
    "           if string[x] == vow[y]:\n",
    "                  s = s+string[x]\n",
    "    return(s)\n",
    "\n",
    "\n",
    "acc = [\"á\",\"é\",\"í\",\"ó\",\"ú\"]\n",
    "t = [\"a\",\"e\",\"i\",\"o\",\"u\",\"n\",\"s\"]\n",
    "\n",
    "def tipo(string):\n",
    "    s=0 \n",
    "    for y in range(7):\n",
    "     for x in range(5):\n",
    "      if vowcon(string)[len(vowcon(string))-1] == acc[x]\n",
    "      or len(vowcon(string))==1 \n",
    "      or (vowcon(string)[len(vowcon(string))-1] != acc[x] \n",
    "      and vowcon(string)[len(vowcon(string))-2] != acc[x] \n",
    "      and vowcon(string)[len(vowcon(string))-3] != acc[x] \n",
    "      and string[len(string)-1] != t[y]) :\n",
    "       s = 1\n",
    "      elif vowcon(string)[len(vowcon(string))-2] == acc[x]:\n",
    "       s = 2\n",
    "      elif vowcon(string)[len(vowcon(string))-3] == acc[x]:\n",
    "       s = 3\n",
    "      \n",
    "    return(s)"
   ]
  },
  {
   "cell_type": "code",
   "execution_count": 611,
   "metadata": {},
   "outputs": [],
   "source": [
    "acc = [\"á\",\"é\",\"í\",\"ó\",\"ú\"]\n",
    "def rhyme(a, b):\n",
    "  n1 = len(vowcon(a))\n",
    "  n2 = len(vowcon(b))\n",
    "  n = max(min(n1,n2),1)\n",
    "  \n",
    "  if n1 ==1 and \n",
    "    if vowcon(a)[n1-n:n1] == vowcon(b)[n2-n:n2]:\n",
    "       r = 1\n",
    "    else: \n",
    "       r =0\n",
    "  return(r)"
   ]
  },
  {
   "cell_type": "code",
   "execution_count": 707,
   "metadata": {},
   "outputs": [
    {
     "data": {
      "text/plain": [
       "1"
      ]
     },
     "execution_count": 707,
     "metadata": {},
     "output_type": "execute_result"
    }
   ],
   "source": [
    "tipo('pájaro')"
   ]
  },
  {
   "cell_type": "code",
   "execution_count": 594,
   "metadata": {
    "scrolled": true
   },
   "outputs": [],
   "source": [
    "def pairs(list):\n",
    "    pairlist = []\n",
    "    for x in range(len(list)):\n",
    "        for y in range(len(list)):\n",
    "            if rhyme(list[x],list[y])==1 and x != y:\n",
    "                pairlist.append(list[x]+ ' ' + list[y])\n",
    "    return(pairlist)\n"
   ]
  },
  {
   "cell_type": "code",
   "execution_count": 486,
   "metadata": {},
   "outputs": [],
   "source": [
    "list1 =['casa','cosa','rosa','salsa','cebolla']"
   ]
  },
  {
   "cell_type": "code",
   "execution_count": 429,
   "metadata": {},
   "outputs": [
    {
     "data": {
      "text/plain": [
       "'rosa rasa'"
      ]
     },
     "execution_count": 429,
     "metadata": {},
     "output_type": "execute_result"
    }
   ],
   "source": [
    "list[x]+ ' ' + list[y]"
   ]
  },
  {
   "cell_type": "code",
   "execution_count": 465,
   "metadata": {},
   "outputs": [],
   "source": [
    "list1.append('a')"
   ]
  },
  {
   "cell_type": "code",
   "execution_count": 473,
   "metadata": {},
   "outputs": [
    {
     "name": "stdout",
     "output_type": "stream",
     "text": [
      "['casa', 'cosa', 'rosa', 'salsa']\n"
     ]
    }
   ],
   "source": [
    "if"
   ]
  },
  {
   "cell_type": "code",
   "execution_count": 522,
   "metadata": {},
   "outputs": [],
   "source": [
    "Ax = \"dicen que el hombre no es un mientras oye su nombre de labios una mujer\" \n",
    "ax = Ax.split()"
   ]
  },
  {
   "cell_type": "code",
   "execution_count": 523,
   "metadata": {},
   "outputs": [
    {
     "name": "stdout",
     "output_type": "stream",
     "text": [
      "['que mujer', 'el es', 'el de', 'hombre oye', 'hombre nombre', 'es el', 'es de', 'un su', 'oye hombre', 'oye nombre', 'su un', 'nombre hombre', 'nombre oye', 'de el', 'de es', 'mujer que']\n"
     ]
    }
   ],
   "source": [
    "p = pairs(ax)\n",
    "print(p)"
   ]
  },
  {
   "cell_type": "code",
   "execution_count": 567,
   "metadata": {},
   "outputs": [
    {
     "name": "stdout",
     "output_type": "stream",
     "text": [
      "\n",
      "\n",
      "labios labios labios que \n",
      "no una de de \n",
      "un el no mujer \n",
      "mientras un de el \n",
      "\n",
      "su nombre el un \n",
      "labios que nombre oye \n",
      "un no dicen su \n",
      "dicen dicen un hombre \n",
      "\n",
      "que el un hombre \n",
      "no hombre dicen hombre \n",
      "de de hombre nombre \n",
      "\n",
      "de una de oye \n",
      "su el que nombre \n",
      "de labios su nombre "
     ]
    }
   ],
   "source": [
    "for m in range(2):\n",
    " print()\n",
    " r=['','']\n",
    " for l in range(4):\n",
    "   print()\n",
    "   for x in range(4):\n",
    "     nshots = 1\n",
    "     backend = BasicAer.get_backend('qasm_simulator') # the device to run on\n",
    "     result = execute(QRPS, backend, shots= nshots).result()\n",
    "     counts  = result.get_counts(QRPS)\n",
    "    \n",
    "     A = \"dicen que el hombre no es un hombre mientras oye su nombre de labios de una mujer\"\n",
    "     B = ['0000','0001','0010','0011','0100','0101','0110','0111','1000','1001','1010','1011','1100','1101','1110','1111']\n",
    "     a = A.split()\n",
    "        \n",
    "  \n",
    "     for i in range(16):\n",
    "        if counts.get(B[i],0) == 1:\n",
    "            if x != 3:\n",
    "                print(a[i], end = ' ')\n",
    "            else:\n",
    "                if l==0 or l==1:\n",
    "                   r[l] = p[i]\n",
    "                   print(p[i].split()[0], end = ' ')\n",
    "                else:\n",
    "                   print(r[l-2].split()[1], end = ' ')\n",
    "                \n",
    "                \n",
    "                \n",
    "                \n",
    "for m in range(2):\n",
    " print()\n",
    " r=['','']\n",
    " for l in range(3):\n",
    "   print()\n",
    "   for x in range(4):\n",
    "     nshots = 1\n",
    "     backend = BasicAer.get_backend('qasm_simulator') # the device to run on\n",
    "     result = execute(QRPS, backend, shots= nshots).result()\n",
    "     counts  = result.get_counts(QRPS)\n",
    "    \n",
    "     for i in range(16):\n",
    "        if counts.get(B[i],0) == 1:\n",
    "            if x != 3:\n",
    "                print(a[i], end = ' ')\n",
    "            else:\n",
    "                if l==0 or l==1:\n",
    "                   r[l] = p[i]\n",
    "                   print(p[i].split()[0], end = ' ')\n",
    "                else:\n",
    "                   print(r[l-2].split()[1], end = ' ')"
   ]
  },
  {
   "cell_type": "code",
   "execution_count": 693,
   "metadata": {},
   "outputs": [
    {
     "data": {
      "text/plain": [
       "0"
      ]
     },
     "execution_count": 693,
     "metadata": {},
     "output_type": "execute_result"
    }
   ],
   "source": [
    "tipo('papel')"
   ]
  },
  {
   "cell_type": "code",
   "execution_count": 652,
   "metadata": {},
   "outputs": [
    {
     "name": "stdout",
     "output_type": "stream",
     "text": [
      "Sí\n"
     ]
    }
   ],
   "source": [
    "for x in range(5): \n",
    "  if 'á' == acc[x]:\n",
    "    print('Sí')"
   ]
  },
  {
   "cell_type": "code",
   "execution_count": 513,
   "metadata": {},
   "outputs": [
    {
     "data": {
      "text/plain": [
       "['Turing Turing',\n",
       " 'las las',\n",
       " 'máquinas máquinas',\n",
       " 'piensan piensan',\n",
       " 'Turing Turing',\n",
       " 'con no',\n",
       " 'las las',\n",
       " 'máquinas máquinas',\n",
       " 'no con',\n",
       " 'piensan piensan']"
      ]
     },
     "execution_count": 513,
     "metadata": {},
     "output_type": "execute_result"
    }
   ],
   "source": [
    "p"
   ]
  },
  {
   "cell_type": "code",
   "execution_count": 562,
   "metadata": {},
   "outputs": [
    {
     "data": {
      "text/plain": [
       "['Turing Turing',\n",
       " 'las las',\n",
       " 'máquinas máquinas',\n",
       " 'piensan piensan',\n",
       " 'Turing Turing',\n",
       " 'con no',\n",
       " 'las las',\n",
       " 'máquinas máquinas',\n",
       " 'no con',\n",
       " 'piensan piensan']"
      ]
     },
     "execution_count": 562,
     "metadata": {},
     "output_type": "execute_result"
    }
   ],
   "source": [
    "pairs(\"Turing cree que las máquinas piensan Turing yace con hombres es decir las máquinas no piensan\".split())"
   ]
  },
  {
   "cell_type": "code",
   "execution_count": 565,
   "metadata": {},
   "outputs": [
    {
     "data": {
      "text/plain": [
       "16"
      ]
     },
     "execution_count": 565,
     "metadata": {},
     "output_type": "execute_result"
    }
   ],
   "source": [
    "len(\"Qué es poesía dices mientras clavas en mi pupila tu azul ¿tú me lo preguntas? eres\".split())"
   ]
  },
  {
   "cell_type": "code",
   "execution_count": 602,
   "metadata": {},
   "outputs": [
    {
     "data": {
      "text/plain": [
       "['entre el',\n",
       " 'el entre',\n",
       " 'el clavel',\n",
       " 'clavel el',\n",
       " 'la rosa',\n",
       " 'la majestad',\n",
       " 'la escoja',\n",
       " 'rosa la',\n",
       " 'rosa escoja',\n",
       " 'majestad la',\n",
       " 'escoja la',\n",
       " 'escoja rosa']"
      ]
     },
     "execution_count": 602,
     "metadata": {},
     "output_type": "execute_result"
    }
   ],
   "source": [
    "pairs(\"entre el clavel y la rosa su majestad escoja\".split())"
   ]
  },
  {
   "cell_type": "code",
   "execution_count": 593,
   "metadata": {},
   "outputs": [
    {
     "data": {
      "text/plain": [
       "[]"
      ]
     },
     "execution_count": 593,
     "metadata": {},
     "output_type": "execute_result"
    }
   ],
   "source": [
    "pairs(\"un ciborg es un \".split())"
   ]
  },
  {
   "cell_type": "code",
   "execution_count": 577,
   "metadata": {},
   "outputs": [
    {
     "data": {
      "text/plain": [
       "1"
      ]
     },
     "execution_count": 577,
     "metadata": {},
     "output_type": "execute_result"
    }
   ],
   "source": [
    "rhyme(\"cola\",\"caracola\")"
   ]
  },
  {
   "cell_type": "code",
   "execution_count": null,
   "metadata": {},
   "outputs": [],
   "source": []
  }
 ],
 "metadata": {
  "kernelspec": {
   "display_name": "Python 3",
   "language": "python",
   "name": "python3"
  },
  "language_info": {
   "codemirror_mode": {
    "name": "ipython",
    "version": 3
   },
   "file_extension": ".py",
   "mimetype": "text/x-python",
   "name": "python",
   "nbconvert_exporter": "python",
   "pygments_lexer": "ipython3",
   "version": "3.7.3"
  }
 },
 "nbformat": 4,
 "nbformat_minor": 2
}
